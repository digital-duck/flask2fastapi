{
 "cells": [
  {
   "cell_type": "code",
   "execution_count": 1,
   "id": "ee0ee793-b407-4fb0-8319-4990f165f48e",
   "metadata": {},
   "outputs": [],
   "source": [
    "from glob import glob\n",
    "from pathlib import Path"
   ]
  },
  {
   "cell_type": "code",
   "execution_count": 2,
   "id": "7f4cceea-3424-4020-a130-61a2076daef1",
   "metadata": {},
   "outputs": [],
   "source": [
    "dirs = glob(\"chap*\")"
   ]
  },
  {
   "cell_type": "code",
   "execution_count": 3,
   "id": "0802c624-81dc-4e1d-bd57-49c478dd52bc",
   "metadata": {},
   "outputs": [
    {
     "data": {
      "text/plain": [
       "['chap01',\n",
       " 'chap02',\n",
       " 'chap03',\n",
       " 'chap04',\n",
       " 'chap05',\n",
       " 'chap06',\n",
       " 'chap07',\n",
       " 'chap08',\n",
       " 'chap09',\n",
       " 'chap10']"
      ]
     },
     "execution_count": 3,
     "metadata": {},
     "output_type": "execute_result"
    }
   ],
   "source": [
    "dirs "
   ]
  },
  {
   "cell_type": "code",
   "execution_count": 8,
   "id": "aad80982-864c-4135-b0e1-df0b6526350d",
   "metadata": {},
   "outputs": [],
   "source": [
    "for d in dirs:\n",
    "    for sd in [\"src\", \"docs\", \"docs/img\"]:\n",
    "        p = Path(\".\") / d / sd \n",
    "        p.mkdir(parents=True, exist_ok=True)\n",
    "        readme = Path(\".\") / d / \"readme.md\"\n",
    "        readme.touch()"
   ]
  },
  {
   "cell_type": "code",
   "execution_count": 10,
   "id": "df998acd-6688-4f6d-8d46-b6d90358ff0d",
   "metadata": {},
   "outputs": [
    {
     "data": {
      "text/plain": [
       "['chap01\\\\docs\\\\readme.md',\n",
       " 'chap01\\\\src\\\\readme.md',\n",
       " 'chap02\\\\docs\\\\readme.md',\n",
       " 'chap02\\\\src\\\\readme.md',\n",
       " 'chap03\\\\docs\\\\readme.md',\n",
       " 'chap03\\\\src\\\\readme.md',\n",
       " 'chap04\\\\docs\\\\readme.md',\n",
       " 'chap04\\\\src\\\\readme.md',\n",
       " 'chap05\\\\docs\\\\readme.md',\n",
       " 'chap05\\\\src\\\\readme.md',\n",
       " 'chap06\\\\docs\\\\readme.md',\n",
       " 'chap06\\\\src\\\\readme.md',\n",
       " 'chap07\\\\docs\\\\readme.md',\n",
       " 'chap07\\\\src\\\\readme.md',\n",
       " 'chap08\\\\docs\\\\readme.md',\n",
       " 'chap08\\\\src\\\\readme.md',\n",
       " 'chap09\\\\docs\\\\readme.md',\n",
       " 'chap09\\\\src\\\\readme.md',\n",
       " 'chap10\\\\docs\\\\readme.md',\n",
       " 'chap10\\\\src\\\\readme.md']"
      ]
     },
     "execution_count": 10,
     "metadata": {},
     "output_type": "execute_result"
    }
   ],
   "source": [
    "readme_files = glob(\"chap*/**/readme.md\")\n",
    "readme_files\n",
    "# Path('filename.txt').unlink(missing_ok=True)"
   ]
  },
  {
   "cell_type": "code",
   "execution_count": null,
   "id": "86460875-bd07-4427-85b2-4b13b57ee3ae",
   "metadata": {},
   "outputs": [],
   "source": []
  }
 ],
 "metadata": {
  "kernelspec": {
   "display_name": "Python 3 (ipykernel)",
   "language": "python",
   "name": "python3"
  },
  "language_info": {
   "codemirror_mode": {
    "name": "ipython",
    "version": 3
   },
   "file_extension": ".py",
   "mimetype": "text/x-python",
   "name": "python",
   "nbconvert_exporter": "python",
   "pygments_lexer": "ipython3",
   "version": "3.11.13"
  }
 },
 "nbformat": 4,
 "nbformat_minor": 5
}
