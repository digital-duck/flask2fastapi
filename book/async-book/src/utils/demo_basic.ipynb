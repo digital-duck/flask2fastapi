{
 "cells": [
  {
   "cell_type": "code",
   "execution_count": 1,
   "id": "d36c3ff5-daa8-40ce-a75f-cc977cad10e1",
   "metadata": {},
   "outputs": [],
   "source": [
    "from async_helpers import *"
   ]
  },
  {
   "cell_type": "code",
   "execution_count": 5,
   "id": "fc0b1fdc-3aa9-463f-a55d-75e551bdf22f",
   "metadata": {},
   "outputs": [],
   "source": [
    "# Exercise 1: Basic async function\n",
    "\n",
    "# Convert this synchronous function\n",
    "def fetch_data(wait_sec: int):\n",
    "    time.sleep(wait_sec)  # Simulate API call\n",
    "    return f\"completed in {wait_sec}\"\n",
    "    \n",
    "@timer\n",
    "def process_multiple(num_calls: int):\n",
    "    results = []\n",
    "    for i in range(num_calls):\n",
    "        results.append(fetch_data(i))\n",
    "    return results\n",
    "\n",
    "# To this async version\n",
    "async def fetch_data_async(wait_sec):\n",
    "    await asyncio.sleep(wait_sec)  # Non-blocking\n",
    "    return f\"completed in {wait_sec}\"\n",
    "\n",
    "@timer\n",
    "async def process_multiple_async(num_calls: int):\n",
    "    tasks = [fetch_data_async(i) for i in range(num_calls)]\n",
    "    results = await asyncio.gather(*tasks)\n",
    "    return results"
   ]
  },
  {
   "cell_type": "code",
   "execution_count": 3,
   "id": "3521ca85-bf78-47b6-b22b-e066e6a2b24f",
   "metadata": {},
   "outputs": [
    {
     "name": "stdout",
     "output_type": "stream",
     "text": [
      "⏱️  process_multiple took 6.001 seconds\n"
     ]
    },
    {
     "data": {
      "text/plain": [
       "['completed in 0', 'completed in 1', 'completed in 2', 'completed in 3']"
      ]
     },
     "execution_count": 3,
     "metadata": {},
     "output_type": "execute_result"
    }
   ],
   "source": [
    "res = process_multiple(4)\n",
    "res"
   ]
  },
  {
   "cell_type": "code",
   "execution_count": 4,
   "id": "be1d16df-0e36-4ece-ac4e-6ab5d4f6656d",
   "metadata": {},
   "outputs": [
    {
     "name": "stdout",
     "output_type": "stream",
     "text": [
      "📓 Running in existing event loop (likely Jupyter)\n",
      "⏱️  process_multiple_async took 3.002 seconds\n"
     ]
    },
    {
     "data": {
      "text/plain": [
       "['completed in 0', 'completed in 1', 'completed in 2', 'completed in 3']"
      ]
     },
     "execution_count": 4,
     "metadata": {},
     "output_type": "execute_result"
    }
   ],
   "source": [
    "res = await async_run_safe(process_multiple_async(4))\n",
    "res"
   ]
  },
  {
   "cell_type": "code",
   "execution_count": null,
   "id": "5e38a629-58b6-4f70-a548-f6d5293a8855",
   "metadata": {},
   "outputs": [],
   "source": []
  }
 ],
 "metadata": {
  "kernelspec": {
   "display_name": "Python 3 (ipykernel)",
   "language": "python",
   "name": "python3"
  },
  "language_info": {
   "codemirror_mode": {
    "name": "ipython",
    "version": 3
   },
   "file_extension": ".py",
   "mimetype": "text/x-python",
   "name": "python",
   "nbconvert_exporter": "python",
   "pygments_lexer": "ipython3",
   "version": "3.11.13"
  }
 },
 "nbformat": 4,
 "nbformat_minor": 5
}
