{
 "cells": [
  {
   "cell_type": "code",
   "execution_count": 1,
   "id": "65adb1dd-8ec7-429f-aaa2-bc1543ef9e10",
   "metadata": {},
   "outputs": [],
   "source": [
    "from async_helpers import *"
   ]
  },
  {
   "cell_type": "code",
   "execution_count": 2,
   "id": "04213395-249d-4170-8230-500c1c548900",
   "metadata": {},
   "outputs": [],
   "source": [
    "@async_timer\n",
    "@debug_async_calls\n",
    "async def slow_operation():\n",
    "    await asyncio.sleep(2)\n",
    "    return \"completed\""
   ]
  },
  {
   "cell_type": "code",
   "execution_count": 6,
   "id": "787899fc-feb1-4c2b-8cb4-4c3a316f009d",
   "metadata": {},
   "outputs": [
    {
     "ename": "RuntimeError",
     "evalue": "asyncio.run() cannot be called from a running event loop",
     "output_type": "error",
     "traceback": [
      "\u001b[31m---------------------------------------------------------------------------\u001b[39m",
      "\u001b[31mRuntimeError\u001b[39m                              Traceback (most recent call last)",
      "\u001b[36mCell\u001b[39m\u001b[36m \u001b[39m\u001b[32mIn[6]\u001b[39m\u001b[32m, line 1\u001b[39m\n\u001b[32m----> \u001b[39m\u001b[32m1\u001b[39m \u001b[43masyncio\u001b[49m\u001b[43m.\u001b[49m\u001b[43mrun\u001b[49m\u001b[43m(\u001b[49m\u001b[43mslow_operation\u001b[49m\u001b[43m(\u001b[49m\u001b[43m)\u001b[49m\u001b[43m)\u001b[49m\n",
      "\u001b[36mFile \u001b[39m\u001b[32m~/anaconda3/envs/fastapi/lib/python3.11/asyncio/runners.py:186\u001b[39m, in \u001b[36mrun\u001b[39m\u001b[34m(main, debug)\u001b[39m\n\u001b[32m    161\u001b[39m \u001b[38;5;250m\u001b[39m\u001b[33;03m\"\"\"Execute the coroutine and return the result.\u001b[39;00m\n\u001b[32m    162\u001b[39m \n\u001b[32m    163\u001b[39m \u001b[33;03mThis function runs the passed coroutine, taking care of\u001b[39;00m\n\u001b[32m   (...)\u001b[39m\u001b[32m    182\u001b[39m \u001b[33;03m    asyncio.run(main())\u001b[39;00m\n\u001b[32m    183\u001b[39m \u001b[33;03m\"\"\"\u001b[39;00m\n\u001b[32m    184\u001b[39m \u001b[38;5;28;01mif\u001b[39;00m events._get_running_loop() \u001b[38;5;129;01mis\u001b[39;00m \u001b[38;5;129;01mnot\u001b[39;00m \u001b[38;5;28;01mNone\u001b[39;00m:\n\u001b[32m    185\u001b[39m     \u001b[38;5;66;03m# fail fast with short traceback\u001b[39;00m\n\u001b[32m--> \u001b[39m\u001b[32m186\u001b[39m     \u001b[38;5;28;01mraise\u001b[39;00m \u001b[38;5;167;01mRuntimeError\u001b[39;00m(\n\u001b[32m    187\u001b[39m         \u001b[33m\"\u001b[39m\u001b[33masyncio.run() cannot be called from a running event loop\u001b[39m\u001b[33m\"\u001b[39m)\n\u001b[32m    189\u001b[39m \u001b[38;5;28;01mwith\u001b[39;00m Runner(debug=debug) \u001b[38;5;28;01mas\u001b[39;00m runner:\n\u001b[32m    190\u001b[39m     \u001b[38;5;28;01mreturn\u001b[39;00m runner.run(main)\n",
      "\u001b[31mRuntimeError\u001b[39m: asyncio.run() cannot be called from a running event loop"
     ]
    }
   ],
   "source": [
    "asyncio.run(slow_operation())"
   ]
  },
  {
   "cell_type": "markdown",
   "id": "579fe1a2-01ad-4ef2-a189-c026c67ea311",
   "metadata": {},
   "source": [
    "## Simplest Solution: Just use `await`"
   ]
  },
  {
   "cell_type": "code",
   "execution_count": 3,
   "id": "d129b2d8-4bfd-4345-9ae4-493406a615b3",
   "metadata": {},
   "outputs": [
    {
     "name": "stdout",
     "output_type": "stream",
     "text": [
      "Calling async function: slow_operation\n",
      "✓ slow_operation completed successfully\n",
      "slow_operation took 2.00 seconds\n"
     ]
    }
   ],
   "source": [
    "resp = await slow_operation()"
   ]
  },
  {
   "cell_type": "code",
   "execution_count": 4,
   "id": "11a7f045-8264-4cfe-997c-db915a50d23e",
   "metadata": {},
   "outputs": [
    {
     "data": {
      "text/plain": [
       "'completed'"
      ]
     },
     "execution_count": 4,
     "metadata": {},
     "output_type": "execute_result"
    }
   ],
   "source": [
    "resp"
   ]
  },
  {
   "cell_type": "markdown",
   "id": "dd6790e5-8f18-47d3-a06f-90e3cafc2eeb",
   "metadata": {},
   "source": [
    "## using `nest_asyncio`"
   ]
  },
  {
   "cell_type": "raw",
   "id": "916f65c8-577c-4feb-84ef-a75e20fdaa32",
   "metadata": {},
   "source": [
    "!pip install nest_asyncio"
   ]
  },
  {
   "cell_type": "code",
   "execution_count": 5,
   "id": "62d353de-fb06-4170-b14e-bae552ca8f6f",
   "metadata": {},
   "outputs": [
    {
     "name": "stdout",
     "output_type": "stream",
     "text": [
      "Calling async function: slow_operation\n",
      "✓ slow_operation completed successfully\n",
      "slow_operation took 2.00 seconds\n"
     ]
    },
    {
     "data": {
      "text/plain": [
       "'completed'"
      ]
     },
     "execution_count": 5,
     "metadata": {},
     "output_type": "execute_result"
    }
   ],
   "source": [
    "import nest_asyncio\n",
    "nest_asyncio.apply()\n",
    "\n",
    "# Now you can use asyncio.run() as normal\n",
    "resp = asyncio.run(slow_operation())\n",
    "resp"
   ]
  },
  {
   "cell_type": "markdown",
   "id": "c5d9d9a9-623a-47f2-b4b2-fd51dc9a2c63",
   "metadata": {},
   "source": [
    "## Using `asyncio.create_task()`"
   ]
  },
  {
   "cell_type": "code",
   "execution_count": 6,
   "id": "58bb2c61-d585-4396-b13a-ab3326c4967f",
   "metadata": {},
   "outputs": [
    {
     "name": "stdout",
     "output_type": "stream",
     "text": [
      "Calling async function: slow_operation\n",
      "✓ slow_operation completed successfully\n",
      "slow_operation took 2.00 seconds\n"
     ]
    },
    {
     "data": {
      "text/plain": [
       "'completed'"
      ]
     },
     "execution_count": 6,
     "metadata": {},
     "output_type": "execute_result"
    }
   ],
   "source": [
    "# Create a task and await it\n",
    "task = asyncio.create_task(slow_operation())\n",
    "result = await task\n",
    "result"
   ]
  },
  {
   "cell_type": "markdown",
   "id": "4f3e2346-7e79-4f0a-ba30-0b9e965cd40c",
   "metadata": {},
   "source": [
    "## async_run_safe"
   ]
  },
  {
   "cell_type": "raw",
   "id": "9cd1cea6-dbf1-46ab-9635-3fc9c2eca6b3",
   "metadata": {},
   "source": [
    "import asyncio\n",
    "from typing import Coroutine, Any\n",
    "\n",
    "async def async_run_safe(coro: Coroutine) -> Any:\n",
    "    \"\"\"\n",
    "    Safely run async code in both Jupyter notebooks and regular Python scripts.\n",
    "    \n",
    "    In Jupyter: Uses await (since event loop is already running)\n",
    "    In scripts: Uses asyncio.run() to create new event loop\n",
    "    \"\"\"\n",
    "    try:\n",
    "        loop = asyncio.get_running_loop()\n",
    "        print(\"📓 Running in existing event loop (likely Jupyter)\")\n",
    "        return await coro\n",
    "    except RuntimeError:\n",
    "        print(\"🐍 No event loop found, creating new one (likely script)\")\n",
    "        return asyncio.run(coro)"
   ]
  },
  {
   "cell_type": "code",
   "execution_count": 7,
   "id": "788b0098-0120-4778-be34-acd457ab3f3d",
   "metadata": {},
   "outputs": [
    {
     "name": "stdout",
     "output_type": "stream",
     "text": [
      "📓 Running in existing event loop (likely Jupyter)\n",
      "Calling async function: slow_operation\n",
      "✓ slow_operation completed successfully\n",
      "slow_operation took 2.00 seconds\n"
     ]
    },
    {
     "data": {
      "text/plain": [
       "'completed'"
      ]
     },
     "execution_count": 7,
     "metadata": {},
     "output_type": "execute_result"
    }
   ],
   "source": [
    "resp = await async_run_safe(slow_operation())\n",
    "resp"
   ]
  },
  {
   "cell_type": "code",
   "execution_count": null,
   "id": "69774569-f5d3-4a26-8d2a-87aa9fc2d57f",
   "metadata": {},
   "outputs": [],
   "source": []
  }
 ],
 "metadata": {
  "kernelspec": {
   "display_name": "Python 3 (ipykernel)",
   "language": "python",
   "name": "python3"
  },
  "language_info": {
   "codemirror_mode": {
    "name": "ipython",
    "version": 3
   },
   "file_extension": ".py",
   "mimetype": "text/x-python",
   "name": "python",
   "nbconvert_exporter": "python",
   "pygments_lexer": "ipython3",
   "version": "3.11.13"
  }
 },
 "nbformat": 4,
 "nbformat_minor": 5
}
